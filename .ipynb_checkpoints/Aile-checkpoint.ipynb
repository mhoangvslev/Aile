{
 "cells": [
  {
   "cell_type": "markdown",
   "metadata": {},
   "source": [
    "# Matplotlib\n",
    "\n",
    "Tout le projet sera placé dans une classe ```WindowsViz``` afin d'optimiser l'organisation"
   ]
  },
  {
   "cell_type": "code",
   "execution_count": null,
   "metadata": {},
   "outputs": [],
   "source": [
    "class WindowsViz:\n",
    "\n",
    "    def __init__(self):\n",
    "        self.__coords, self.__values = charger_objet(\"aile\")\n",
    "        self.__xmin, self.__xmax = min(self.__coords[:, 0]), max(self.__coords[:, 0])\n",
    "        self.__ymin, self.__ymax = min(self.__coords[:, 1]), max(self.__coords[:, 1])\n",
    "\n",
    "        self.__xs, self.__ys, self.__us, self.__vs, self.__speeds = self.recalibrate()\n",
    "\n",
    "        self.__dispVec, self.__dispGrid, self.__dispCellule = False, False, False\n",
    "        self.__dropPoints = []\n",
    "        self.__cells = self.calcCells()\n",
    "        \n",
    "        self.__strm = None\n",
    "        self.__beginSection = None\n",
    "        self.__endSection = None\n",
    "        \n",
    "        print(\"WindowsViz created successfully!\")  "
   ]
  },
  {
   "cell_type": "markdown",
   "metadata": {},
   "source": [
    "## Fonction pour afficher le champs de vecteurs\n",
    "\n",
    "![](docs/matplotlib_v.png)"
   ]
  },
  {
   "cell_type": "code",
   "execution_count": null,
   "metadata": {},
   "outputs": [],
   "source": [
    "# Afficher le champs de vecteurs\n",
    "def afficher_vitesse(self):    \n",
    "    x, y, u, v = self.__coords[:, 0], self.__coords[:, 1], self.__values[:, 0], self.__values[:, 1]    \n",
    "    ax.quiver(x, y, u, v, color=\"red\", headwidth=1, scale=35)\n"
   ]
  },
  {
   "cell_type": "markdown",
   "metadata": {},
   "source": [
    "## Fonction pour afficher le profil\n",
    "\n",
    "![](docs/matplotlib_p.png)\n"
   ]
  },
  {
   "cell_type": "code",
   "execution_count": null,
   "metadata": {},
   "outputs": [],
   "source": [
    "# Afficher le profil\n",
    "def afficher_profil(self, color):  \n",
    "    verts = self.__coords[0:len(self.__coords):35]\n",
    "    poly = Polygon(verts)\n",
    "    poly.set_color(color)    \n",
    "    ax.add_patch(poly)    "
   ]
  },
  {
   "cell_type": "markdown",
   "metadata": {},
   "source": [
    "## Fonction pour afficher le maillage\n",
    "\n",
    "![](docs/matplotlib_m.png)\n"
   ]
  },
  {
   "cell_type": "code",
   "execution_count": null,
   "metadata": {},
   "outputs": [],
   "source": [
    "# Afficher le maillage\n",
    "def afficher_maillage(self):\n",
    "    tabX, tabY = np.array(self.__coords[:, 0]), np.array(self.__coords[:, 1])\n",
    "\n",
    "    # Vertical lines\n",
    "    for n in range(0, 35 * 87, 35):\n",
    "        xs, ys = tabX[n:n + 35], tabY[n:n + 35]\n",
    "        plt.plot(xs, ys, c=(0, 0, 0, .2))\n",
    "\n",
    "    # Horizontal lines\n",
    "    for n in range(0, 35):\n",
    "        xs, ys = tabX[n:len(tabX):35], tabY[n:len(tabY):35]\n",
    "        plt.plot(xs, ys, c=(0, 0, 0, .2))"
   ]
  },
  {
   "cell_type": "markdown",
   "metadata": {},
   "source": [
    "## Fonction pour affcicher les cellules candidates\n",
    "\n",
    "![](docs/matplotlib_c.png)\n"
   ]
  },
  {
   "cell_type": "code",
   "execution_count": null,
   "metadata": {},
   "outputs": [],
   "source": [
    "# Afficher les cellules candidates:\n",
    "def afficher_cellules(self, color):\n",
    "\n",
    "    # test sign\n",
    "    def test_sign(vectors):\n",
    "        for i in range(len(vectors)-1):\n",
    "            vec1, vec2 = vectors[i], vectors[i+1]\n",
    "\n",
    "            # Si le produit scalaire est négatif, alors les vecteurs sont opposés\n",
    "            if np.dot(vec1, vec2) < 0:\n",
    "                return False\n",
    "\n",
    "        return True\n",
    "\n",
    "    # Begin\n",
    "    for cell in self.__cells:\n",
    "        x1, x2, x3, x4 = cell[:, 0]\n",
    "        y1, y2, y3, y4 = cell[:, 1]\n",
    "        u1, u2, u3, u4 = cell[:, 2]\n",
    "        v1, v2, v3, v4 = cell[:, 3] \n",
    "\n",
    "        # Les 4 vecteurs\n",
    "        vecs = [ [u1, v1], [u2, v2], [u3, v3], [u4, v4] ]\n",
    "\n",
    "        if not test_sign(vecs):\n",
    "            verts = [ (x1, y1), (x2, y2), (x3, y3), (x4, y4) ]\n",
    "            poly = Polygon(verts)\n",
    "            poly.set_color(color)\n",
    "            ax.add_patch(poly)"
   ]
  },
  {
   "cell_type": "markdown",
   "metadata": {},
   "source": [
    "## Fonction pour charger les objets"
   ]
  },
  {
   "cell_type": "code",
   "execution_count": null,
   "metadata": {},
   "outputs": [],
   "source": [
    "def charger_objet(obj, limit=0):\n",
    "    coords = []\n",
    "    values = []\n",
    "    count = 0\n",
    "\n",
    "    file = open(obj, \"r\")\n",
    "    angle = 0.\n",
    "    x, y = 0., 0.\n",
    "    u, v = 0., 0.\n",
    "\n",
    "    R = np.zeros((2, 2))\n",
    "\n",
    "    for line in file.readlines():\n",
    "        data = line.split()\n",
    "\n",
    "        if count == 0:\n",
    "            angle = float(data[2])\n",
    "            \n",
    "            theta = np.radians(angle)\n",
    "            c, s = np.cos(theta), np.sin(theta)\n",
    "            R = np.array(((c, -s), (s, c)))\n",
    "\n",
    "            count += 1\n",
    "            continue\n",
    "\n",
    "        x, y, u, v = float(data[0]), float(data[1]), float(data[2]), float(data[3])\n",
    "\n",
    "        # Rotation matrix\n",
    "        coords.append(np.matmul(R, np.array((x, y))))\n",
    "        values.append(np.matmul(R, np.array((u, v))))\n",
    "\n",
    "        if limit != 0 and count == limit: break\n",
    "        count += 1\n",
    "\n",
    "    return np.array(coords), np.array(values)"
   ]
  },
  {
   "cell_type": "markdown",
   "metadata": {},
   "source": [
    "## Fonction pour afficher les objets"
   ]
  },
  {
   "cell_type": "code",
   "execution_count": null,
   "metadata": {},
   "outputs": [],
   "source": [
    "# Afficher l'objet\n",
    "def afficher_objet(self): \n",
    "\n",
    "    plt.cla()\n",
    "\n",
    "    self.afficher_profil(\"grey\")\n",
    "    if self.__dispVec: \n",
    "        self.afficher_vitesse()\n",
    "    if self.__dispGrid: \n",
    "        self.afficher_maillage()\n",
    "    if self.__dispCellule: \n",
    "        self.afficher_cellules(\"blue\")\n",
    "\n",
    "    #print([min(self.__coords[:, 0]), max(self.__coords[:, 0]), min(self.__coords[:, 1]), max(self.__coords[:, 1])])\n",
    "    ax.set_xlim(-1, 1)\n",
    "    ax.set_ylim(-1, 1)\n",
    "\n",
    "    # draw lines\n",
    "    self.calcul_lignes()\n",
    "\n",
    "    plt.title('Visualisation: M=Grid, C=CellsCandidates, V=Vitesses, R=Reset, DoubleClick=Drop')\n",
    "    plt.show()"
   ]
  },
  {
   "cell_type": "markdown",
   "metadata": {},
   "source": [
    "## Fonction pour simuler le lâchage des particules dans le champ des vitesses\n",
    "\n",
    "![](docs/matplotlib_lines.png)\n"
   ]
  },
  {
   "cell_type": "code",
   "execution_count": null,
   "metadata": {},
   "outputs": [],
   "source": [
    "# calcul_lignes\n",
    "def calcul_lignes(self):\n",
    "    if(len(self.__dropPoints) > 0):\n",
    "        strm = ax.streamplot(self.__xs, self.__ys, self.__us, self.__vs, start_points=self.__dropPoints, color=self.__speeds, linewidth=2, cmap=\"viridis\")\n",
    "        if self.__strm is None:\n",
    "            self.__strm = strm\n",
    "            self.__colorbar = fig.colorbar(strm.lines)"
   ]
  },
  {
   "cell_type": "markdown",
   "metadata": {},
   "source": [
    "# PyVTK\n",
    "\n",
    "Pour cette partie, nous allons utiliser [VTKI](https://github.com/vtkiorg/vtki), une interface de VTK pour Python. Elle offre les fonctionalités ressemblables à celles de Matplotlib, avec une documentation assez élaborée. \n",
    "\n",
    "Malgré tout, je n'ai pas eu le temps nécessaire pour adapter le code fait avec Matplotlib à VTKi, on voit encore dans le fichier ```vtki_viz.py```, les traces de ceux  qui ont été réalisés.\n",
    "\n",
    "Cependant, on peut voir un exemple de code qui permet de afficher un champs de vecteurs:\n",
    "\n",
    "![](docs/vtk_glyphes.png)\n"
   ]
  },
  {
   "cell_type": "code",
   "execution_count": null,
   "metadata": {},
   "outputs": [],
   "source": [
    "import vtki\n",
    "import numpy as np\n",
    "\n",
    "# Make a grid:\n",
    "x, y, z = np.meshgrid(np.linspace(-5, 5, 20),\n",
    "                  np.linspace(-5, 5, 20),\n",
    "                  np.linspace(-5, 5, 5))\n",
    "\n",
    "grid = vtki.StructuredGrid(x, y, z)\n",
    "\n",
    "vectors = np.sin(grid.points)**3\n",
    "\n",
    "\n",
    "# Compute a direction for the vector field\n",
    "grid.point_arrays['mag'] = np.linalg.norm(vectors, axis=1)\n",
    "grid.point_arrays['vec'] = vectors\n",
    "\n",
    "# Make a geometric obhect to use as the glyph\n",
    "geom = vtki.Arrow() # This could be any dataset\n",
    "\n",
    "# Perform the glyph\n",
    "glyphs = grid.glyph(orient='vec', scale='mag', factor=0.8, geom=geom)\n",
    "\n",
    "# plot using the plotting class\n",
    "p = vtki.Plotter()\n",
    "p.add_mesh(glyphs)\n",
    "p.show()"
   ]
  },
  {
   "cell_type": "markdown",
   "metadata": {},
   "source": [
    "# Difficulés rencontré\n",
    "\n",
    "## Temps\n",
    "Avec autres projets, le temps dédié à ce projet est moins par rapport que j'ai plannifié et j'arrête de travailler sur ce projet à partir du 15 Avril (stage)\n",
    "\n",
    "## Python\n",
    "Beaucoup de temps ont été consacrés à la recherche des fonctions Numpy, Scipy, Matplotlib pour ne pas ré-inventer la roue. Le code semble simple mais c'est le résulat des multitudes de correction et tests.\n",
    "\n",
    "## VTK\n",
    "VTK est beaucoup moins facil à apprendre et à déployer que Matplotlib, malgré ses fonctionalités intéressante. "
   ]
  }
 ],
 "metadata": {
  "kernelspec": {
   "display_name": "Python 3",
   "language": "python",
   "name": "python3"
  },
  "language_info": {
   "codemirror_mode": {
    "name": "ipython",
    "version": 3
   },
   "file_extension": ".py",
   "mimetype": "text/x-python",
   "name": "python",
   "nbconvert_exporter": "python",
   "pygments_lexer": "ipython3",
   "version": "3.6.7"
  }
 },
 "nbformat": 4,
 "nbformat_minor": 2
}
